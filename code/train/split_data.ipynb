{
 "cells": [
  {
   "cell_type": "code",
   "execution_count": null,
   "metadata": {},
   "outputs": [],
   "source": [
    "import numpy as np\n",
    "import random\n",
    "import json\n",
    "import configparser\n",
    "import os\n",
    "\n",
    "import warnings\n",
    "warnings.filterwarnings('ignore')\n",
    "\n",
    "#import general utils functions\n",
    "import utils.general_utils as gu\n",
    "#import project related utils\n",
    "import utils.project_utils as pu"
   ]
  },
  {
   "cell_type": "code",
   "execution_count": null,
   "metadata": {},
   "outputs": [],
   "source": [
    "train_config_path = 'train_config.ini'"
   ]
  },
  {
   "cell_type": "code",
   "execution_count": null,
   "metadata": {},
   "outputs": [],
   "source": [
    "import logging\n",
    "logger = logging.getLogger('fnv_train')\n",
    "LOGI = logger.info\n",
    "LOGD = logger.debug\n",
    "LOGE = logger.error\n",
    "import logging.config\n",
    "log_conf = pu.get_logconf_path(train_config_path)\n",
    "logging.config.fileConfig(log_conf)"
   ]
  },
  {
   "cell_type": "code",
   "execution_count": null,
   "metadata": {},
   "outputs": [],
   "source": [
    "class SplitData():\n",
    "    def __init__(self, train_config):\n",
    "        \n",
    "        #Split train, val, test ratios\n",
    "        self.train_ratio = 0.9\n",
    "        self.val_ratio = 0.06\n",
    "        self.test_ratio = 1.0-(self.train_ratio+self.val_ratio)      \n",
    "        \n",
    "        project_folder = train_config['local_variables']['project_folder']\n",
    "        self.dataset_dir = os.path.join(project_folder, train_config['project_folders']['data'])\n",
    "        self.meta_dir = os.path.join(project_folder, train_config['project_folders']['meta_data'])\n",
    "        \n",
    "        #Split data json file\n",
    "        self.data_filepath = os.path.join(self.meta_dir, train_config['files']['split_data_file'])\n",
    "    \n",
    "    #Split data specific to sku\n",
    "    def sku_data_split(self, sku_id):\n",
    "        \n",
    "        LOGI('\\n')\n",
    "        LOGI('Splitting data for sku id %s'%sku_id)\n",
    "        \n",
    "        annotations = pu.get_annot_sku(sku_id, self.meta_dir)\n",
    "        \n",
    "        annotations = list(annotations['_via_img_metadata'].values())\n",
    "        annot_imgs = [a['filename'] for a in annotations if a['regions']]\n",
    "\n",
    "        tot_imgs = len(annot_imgs)\n",
    "        \n",
    "        #Split data based on train, val, test ratios\n",
    "        train_len = int(self.train_ratio*tot_imgs)\n",
    "        val_len = int(np.round(self.val_ratio*tot_imgs))\n",
    "        test_len = tot_imgs-(train_len+val_len)\n",
    "        LOGI(\"train_len = %d val_len = %d test_len = %d\"%(train_len, val_len, test_len))\n",
    "\n",
    "\n",
    "        #shuffle images list and random split in unique way for all the runs\n",
    "        annot_imgs.sort()\n",
    "        random.seed(6)\n",
    "        random.shuffle(annot_imgs)\n",
    "\n",
    "        sku_data = {}\n",
    "        sku_data['train'] = annot_imgs[:train_len]\n",
    "        sku_data['val'] = annot_imgs[train_len:(train_len+val_len)]\n",
    "        sku_data['test'] = annot_imgs[(train_len+val_len):]\n",
    "        LOGI(\"Splitted images count train_len = %d val_len = %d test_len = %d\"%(len(sku_data['train']), len(sku_data['val']), len(sku_data['test'])))\n",
    "\n",
    "        \n",
    "        return sku_data\n",
    "        \n",
    "    def data_split(self, train_config_path):\n",
    "        #Get individal unique sku ids\n",
    "        sku_ids = pu.get_sku_ids(train_config_path)\n",
    "        LOGI('Unique sku_ids')\n",
    "        LOGI(sku_ids)\n",
    "        data = {}\n",
    "        \n",
    "        for sku_id in sku_ids:\n",
    "            data[sku_id] = self.sku_data_split(sku_id)\n",
    "        \n",
    "        #Save splitted data in json file\n",
    "        gu.save_as_json(self.data_filepath, data)"
   ]
  },
  {
   "cell_type": "code",
   "execution_count": null,
   "metadata": {},
   "outputs": [],
   "source": [
    "train_config = pu.get_configParser(train_config_path)"
   ]
  },
  {
   "cell_type": "code",
   "execution_count": null,
   "metadata": {},
   "outputs": [],
   "source": [
    "split_data = SplitData(train_config)"
   ]
  },
  {
   "cell_type": "code",
   "execution_count": null,
   "metadata": {},
   "outputs": [],
   "source": [
    "split_data.data_split(train_config_path)"
   ]
  }
 ],
 "metadata": {
  "kernelspec": {
   "display_name": "Python 3",
   "language": "python",
   "name": "python3"
  },
  "language_info": {
   "codemirror_mode": {
    "name": "ipython",
    "version": 3
   },
   "file_extension": ".py",
   "mimetype": "text/x-python",
   "name": "python",
   "nbconvert_exporter": "python",
   "pygments_lexer": "ipython3",
   "version": "3.6.2"
  }
 },
 "nbformat": 4,
 "nbformat_minor": 4
}
